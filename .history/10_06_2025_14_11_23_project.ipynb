{
 "cells": [
  {
   "cell_type": "markdown",
   "id": "c0cae4c7-1586-45d8-aedd-840883add873",
   "metadata": {},
   "source": [
    "hello section"
   ]
  },
  {
   "cell_type": "code",
   "execution_count": null,
   "id": "e37b5e54-b87f-41da-99fc-aabf315716b9",
   "metadata": {},
   "outputs": [],
   "source": [
    "library(tidyverse)\n",
    "library(tidymodels)\n",
    "players <- read_csv (\"players.csv\")\n",
    "players <- players |>\n",
    "mutate(subscribe = as.factor(subscribe))\n",
    "\n",
    "players"
   ]
  },
  {
   "cell_type": "code",
   "execution_count": null,
   "id": "f471322e-6905-4958-b537-9efe26f774e4",
   "metadata": {},
   "outputs": [],
   "source": [
    "library(readr)\n",
    "library(dplyr)\n",
    "library(ggplot2)\n",
    "sessions <- read_csv(\"sessions.csv\")\n",
    "sessions"
   ]
  },
  {
   "cell_type": "code",
   "execution_count": null,
   "id": "04bf2f8a-b691-4ddb-96c4-20bca21d39e4",
   "metadata": {},
   "outputs": [],
   "source": []
  }
 ],
 "metadata": {
  "kernelspec": {
   "display_name": "R",
   "language": "R",
   "name": "ir"
  },
  "language_info": {
   "codemirror_mode": "r",
   "file_extension": ".r",
   "mimetype": "text/x-r-source",
   "name": "R",
   "pygments_lexer": "r",
   "version": "4.3.3"
  }
 },
 "nbformat": 4,
 "nbformat_minor": 5
}
